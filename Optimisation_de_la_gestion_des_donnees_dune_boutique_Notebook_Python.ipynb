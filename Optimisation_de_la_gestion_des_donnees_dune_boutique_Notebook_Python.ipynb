{
 "cells": [
  {
   "cell_type": "markdown",
   "source": [
    "Import des librairies et données nécessaires à l'étude:\r\n",
    "==="
   ],
   "metadata": {}
  },
  {
   "cell_type": "code",
   "execution_count": 1,
   "source": [
    "# Librairies de calcul\r\n",
    "import pandas as pd\r\n",
    "import numpy as np\r\n",
    "\r\n",
    "# Librairies de visualisation\r\n",
    "import matplotlib.pyplot as plt\r\n",
    "import seaborn as sns\r\n",
    "\r\n",
    "# Option globale pour l'output display\r\n",
    "pd.options.display.float_format = \"{:.2f}\".format\r\n",
    "\r\n",
    "# Import des donnees\r\n",
    "Liaison_df = pd.read_csv(\"liaison.csv\", sep=\";\")\r\n",
    "Erp_df = pd.read_csv(\"ERP.csv\", sep=\";\")\r\n",
    "Web_df = pd.read_csv(\"web.csv\", sep=\";\")"
   ],
   "outputs": [],
   "metadata": {}
  },
  {
   "cell_type": "markdown",
   "source": [
    "Observation et nettoyage des Dataframes:\r\n",
    "==="
   ],
   "metadata": {}
  },
  {
   "cell_type": "markdown",
   "source": [
    "Liaison_df:\r\n",
    "---"
   ],
   "metadata": {}
  },
  {
   "cell_type": "code",
   "execution_count": 2,
   "source": [
    "Liaison_df.info()"
   ],
   "outputs": [
    {
     "output_type": "stream",
     "name": "stdout",
     "text": [
      "<class 'pandas.core.frame.DataFrame'>\n",
      "RangeIndex: 825 entries, 0 to 824\n",
      "Data columns (total 2 columns):\n",
      " #   Column      Non-Null Count  Dtype \n",
      "---  ------      --------------  ----- \n",
      " 0   product_id  825 non-null    int64 \n",
      " 1   id_web      734 non-null    object\n",
      "dtypes: int64(1), object(1)\n",
      "memory usage: 13.0+ KB\n"
     ]
    }
   ],
   "metadata": {}
  },
  {
   "cell_type": "markdown",
   "source": [
    "**On devra faire attention ici certains product_id n'ont pas de correspondance dans id_web (a renommé plus tard \"sku\" pour garder la continuité avec le df web). En fait il s'agit des références non disponibles sur le site web, ce qui correspond à \"0\" dans la colonne onsale_web d'Erp_df.**\r\n",
    "\r\n",
    "**De plus product_id est considéré comme un chiffre, on le veut en tant qu'objet.**"
   ],
   "metadata": {}
  },
  {
   "cell_type": "code",
   "execution_count": 3,
   "source": [
    "Liaison_df[\"product_id\"] = Liaison_df.astype({\"product_id\":object})\r\n",
    "Liaison_df = Liaison_df.rename(columns={\"id_web\":\"sku\"})"
   ],
   "outputs": [],
   "metadata": {}
  },
  {
   "cell_type": "markdown",
   "source": [
    "Erp_df:\r\n",
    "---"
   ],
   "metadata": {}
  },
  {
   "cell_type": "code",
   "execution_count": 4,
   "source": [
    "Erp_df.info()"
   ],
   "outputs": [
    {
     "output_type": "stream",
     "name": "stdout",
     "text": [
      "<class 'pandas.core.frame.DataFrame'>\n",
      "RangeIndex: 825 entries, 0 to 824\n",
      "Data columns (total 5 columns):\n",
      " #   Column          Non-Null Count  Dtype  \n",
      "---  ------          --------------  -----  \n",
      " 0   product_id      825 non-null    int64  \n",
      " 1   onsale_web      825 non-null    int64  \n",
      " 2   price           825 non-null    float64\n",
      " 3   stock_quantity  825 non-null    int64  \n",
      " 4   stock_status    825 non-null    object \n",
      "dtypes: float64(1), int64(3), object(1)\n",
      "memory usage: 32.4+ KB\n"
     ]
    }
   ],
   "metadata": {}
  },
  {
   "cell_type": "markdown",
   "source": [
    "**Ici aucune valeur manquante, par contre:**\r\n",
    "- **product_id considéré comme un int on le veut en tant qu'object, c'est une erreure courante.**\r\n",
    "\r\n",
    "*onsale_web et stock_status peuvent être considérés comme booléens (onsale_web : 1 = en vente sur le site, 0= pas en vente sur le site ; outofstock/onstock parlent d'eux-mêmes) mais pour sont conservés en tant qu'object pour l'instant.*"
   ],
   "metadata": {}
  },
  {
   "cell_type": "code",
   "execution_count": 5,
   "source": [
    "Erp_df[\"product_id\"] = Erp_df.astype({\"product_id\":object})"
   ],
   "outputs": [],
   "metadata": {}
  },
  {
   "cell_type": "markdown",
   "source": [
    "Web_df:\r\n",
    "---"
   ],
   "metadata": {}
  },
  {
   "cell_type": "code",
   "execution_count": 6,
   "source": [
    "Web_df.info()"
   ],
   "outputs": [
    {
     "output_type": "stream",
     "name": "stdout",
     "text": [
      "<class 'pandas.core.frame.DataFrame'>\n",
      "RangeIndex: 1513 entries, 0 to 1512\n",
      "Data columns (total 28 columns):\n",
      " #   Column                 Non-Null Count  Dtype  \n",
      "---  ------                 --------------  -----  \n",
      " 0   sku                    1428 non-null   object \n",
      " 1   virtual                1513 non-null   int64  \n",
      " 2   downloadable           1513 non-null   int64  \n",
      " 3   rating_count           1513 non-null   int64  \n",
      " 4   average_rating         1430 non-null   float64\n",
      " 5   total_sales            1430 non-null   float64\n",
      " 6   tax_status             716 non-null    object \n",
      " 7   tax_class              0 non-null      float64\n",
      " 8   post_author            1430 non-null   float64\n",
      " 9   post_date              1430 non-null   object \n",
      " 10  post_date_gmt          1430 non-null   object \n",
      " 11  post_content           0 non-null      float64\n",
      " 12  post_title             1430 non-null   object \n",
      " 13  post_excerpt           716 non-null    object \n",
      " 14  post_status            1430 non-null   object \n",
      " 15  comment_status         1430 non-null   object \n",
      " 16  ping_status            1430 non-null   object \n",
      " 17  post_password          0 non-null      float64\n",
      " 18  post_name              1430 non-null   object \n",
      " 19  post_modified          1430 non-null   object \n",
      " 20  post_modified_gmt      1430 non-null   object \n",
      " 21  post_content_filtered  0 non-null      float64\n",
      " 22  post_parent            1430 non-null   float64\n",
      " 23  guid                   1430 non-null   object \n",
      " 24  menu_order             1430 non-null   float64\n",
      " 25  post_type              1430 non-null   object \n",
      " 26  post_mime_type         714 non-null    object \n",
      " 27  comment_count          1430 non-null   float64\n",
      "dtypes: float64(10), int64(3), object(15)\n",
      "memory usage: 331.1+ KB\n"
     ]
    }
   ],
   "metadata": {}
  },
  {
   "cell_type": "markdown",
   "source": [
    "**Ici on a beaucoup de colonnes qui posent potentiellement problème:**\r\n",
    "- **post_date, post_date_gmt, post_modified et post_modified_gmt sont des datetimes et non des object.**\r\n",
    "- *virtual, downlodable, rating_count, average_rating, post_parent, menu_order et comment_count sont toujours vides ou égales à zéro, sont elles vraiment utiles ? Nous les gardons pour le moment. Idem taxe_class, post_content, post_password et post_content_filtered sont toujours vides.*\r\n",
    "- *Post_status comment_status, ping_status, post_type et post_mime_type sont comme précédemment des booléens en quelque sorte mais restent pour l'instant des object, il peut être intéressant à l'avenir de les modifier selon leur importance.*\r\n",
    "- **post_author n'est pas un float mais un object.**"
   ],
   "metadata": {}
  },
  {
   "cell_type": "code",
   "execution_count": 7,
   "source": [
    "Web_df[\"post_date\"] = pd.to_datetime(Web_df[\"post_date\"], yearfirst= True)\r\n",
    "Web_df[\"post_date_gmt\"] = pd.to_datetime(Web_df[\"post_date_gmt\"], yearfirst= True)\r\n",
    "Web_df[\"post_modified\"] = pd.to_datetime(Web_df[\"post_modified\"], yearfirst= True)\r\n",
    "Web_df[\"post_modified_gmt\"] = pd.to_datetime(Web_df[\"post_modified_gmt\"], yearfirst= True)\r\n",
    "Web_df[\"post_author\"] = Web_df.astype({\"post_author\":object})"
   ],
   "outputs": [],
   "metadata": {}
  },
  {
   "cell_type": "markdown",
   "source": [
    "Missions:\r\n",
    "==="
   ],
   "metadata": {}
  },
  {
   "cell_type": "markdown",
   "source": [
    "Rapprocher les exports ERP et Web via Liaison:\r\n",
    "---"
   ],
   "metadata": {}
  },
  {
   "cell_type": "markdown",
   "source": [
    "**Il s'agit ici de faire une jointure, il fautre prendre en compte le fait que les product_id des ERP n'aient pas toujours une correspondance dans les sku des exports Web.**\r\n",
    "On commence par une première jointure Erp/Liaison, avec product_Id en clé puisque dans les deux df ont à le même nombre de références uniques. Puis le df intermédiaire est merge à son tour avec Web_df, on utilise les sku en clé. C'est ici qu'il faut faire attention aux références non vendues sur le site.\r\n"
   ],
   "metadata": {}
  },
  {
   "cell_type": "code",
   "execution_count": 8,
   "source": [
    "#Ducplicats:\r\n",
    "Duplicated_df = Web_df.loc[Web_df.duplicated(subset=\"sku\", keep=\"last\")==True].sort_values(\"post_type\")"
   ],
   "outputs": [],
   "metadata": {}
  },
  {
   "cell_type": "markdown",
   "source": [
    "*keep = False garde tous les tuples, il est donc normal d'avoir le même nombre, si on keep=\"last\" après avoir trié par post_type, 'product' arrivant toujours en dernier on ne garde  en théorie que les bouteilles. En pratique des NaN sont placés en fin de classement, on aura donc certains SKU conservés sans les informations nécessaires si on supprime directement via cette méthode. On choisit de sélectionner par type de produits.*\r\n",
    "\r\n",
    "*Toutes les lignes où SKU = NaN sont complètement vides donc à enlever, excepté deux lignes vides concernant \"Pierre Jean Villa Côte Rôtie Fongeant 2017\" et \"Pierre Jean Villa Condrieu Jardin Suspendu 2018\" il faut voir avec le service concerné si ces lignes doivent être conservées et complétées ou non (produits vendus en boutique ? sur le site? en stock ?).*"
   ],
   "metadata": {}
  },
  {
   "cell_type": "code",
   "execution_count": 22,
   "source": [
    "#On merge (inner) Erp et Liaison dans un dataframe intermediaire:\r\n",
    "Interm_df = pd.merge(Erp_df, Liaison_df, on=[\"product_id\"])\r\n",
    "\r\n",
    "#On merge (right) le dataframe intermediaire avec Web:\r\n",
    "Complet_df = pd.merge(Interm_df, Web_df, how=\"right\",on=[\"sku\"])\r\n",
    "\r\n",
    "#On ne garde que les articles (on enlève les attachements des postes type images et autres):\r\n",
    "Complet_df = Complet_df[Complet_df[\"post_type\"]==\"product\"]"
   ],
   "outputs": [],
   "metadata": {}
  },
  {
   "cell_type": "markdown",
   "source": [
    "**On fait en premier lieu une jointure interne (on utilise l'intersection des deux clés pour effectuer la jointure), on a le même nombre de product_id le résultat serait donc le même avec une outer joint (on utilise l'union des deux clés pour effectuer la jointure).**\r\n",
    "**Ensuite on fait une jointure par la droite pour rapprocher les lignes désignées par un sku tout en conservant tous les produits(la jointure est réalisée en utilisant seulement la clé de la dernière table).**"
   ],
   "metadata": {}
  },
  {
   "cell_type": "markdown",
   "source": [
    "Chiffre d'affaire par produits:\r\n",
    "---"
   ],
   "metadata": {}
  },
  {
   "cell_type": "code",
   "execution_count": 23,
   "source": [
    "# Creation d'une colonne contenant le chiffre d'affaire par produits:\r\n",
    "Complet_df[\"ca_product\"] = Complet_df[\"price\"]*Complet_df[\"total_sales\"]\r\n",
    "\r\n",
    "print(Complet_df.groupby(\"post_title\")[[\"ca_product\"]].prod())"
   ],
   "outputs": [
    {
     "output_type": "stream",
     "name": "stdout",
     "text": [
      "                                                    ca_product\n",
      "post_title                                                    \n",
      "Agnès Levet Côte Rôtie Améthyste 2017                   164.80\n",
      "Agnès Levet Côte Rôtie Maestria 2017                    165.00\n",
      "Agnès Levet Côte Rôtie Péroline 2017                    171.00\n",
      "Alain Graillot Crozes-Hermitage Blanc 2018              244.00\n",
      "Alain Graillot Crozes-Hermitage Rouge 2017              146.40\n",
      "...                                                        ...\n",
      "Zind-Humbrecht Pinot Gris Roche Calcaire 2017             0.00\n",
      "Zind-Humbrecht Riesling Clos Windsbuhl 2014               0.00\n",
      "Zind-Humbrecht Riesling Grand Cru Rangen De Tha...        0.00\n",
      "Zind-Humbrecht Riesling Herrenweg de Turckheim ...       63.40\n",
      "Zind-Humbrecht Zind 2017                                154.20\n",
      "\n",
      "[713 rows x 1 columns]\n"
     ]
    }
   ],
   "metadata": {}
  },
  {
   "cell_type": "markdown",
   "source": [
    "Chiffre d'affaire totaux:\r\n",
    "---"
   ],
   "metadata": {}
  },
  {
   "cell_type": "code",
   "execution_count": 24,
   "source": [
    "# Chiffre d'affaire global:\r\n",
    "Ca_Tot = sum(Complet_df[\"ca_product\"])\r\n",
    "\r\n",
    "print(\"Le chiffre d'affaire total est de\", Ca_Tot, \"€\")"
   ],
   "outputs": [
    {
     "output_type": "stream",
     "name": "stdout",
     "text": [
      "Le chiffre d'affaire total est de 70568.6 €\n"
     ]
    }
   ],
   "metadata": {}
  },
  {
   "cell_type": "code",
   "execution_count": 12,
   "source": [
    "# Chiffre d'affaire en ligne total:\r\n",
    "Ca_Web = sum(Complet_df.loc[(Complet_df[\"onsale_web\"]==1),\"price\"]\r\n",
    "            *Complet_df.loc[(Complet_df[\"onsale_web\"]==1),\"total_sales\"])\r\n",
    "\r\n",
    "print(\"Le chiffre d'affaire en ligne total est de\", Ca_Web, \"€\")"
   ],
   "outputs": [
    {
     "output_type": "stream",
     "name": "stdout",
     "text": [
      "Le chiffre d'affaire en ligne total est de 70568.6 €\n"
     ]
    }
   ],
   "metadata": {}
  },
  {
   "cell_type": "markdown",
   "source": [
    "**On remarque que les deux expressions donnent le même résulat, ce n'est dû qu'au fait que les ventes en boutiques ne sont pour le moment pas comptabilisées dans notre dataframe** (*total_sales toujours nulles*) **mais si nous complétons notre df en ajoutant ces données alors la première expression ne correspondra plus au chiffre d'affaire total des ventes en ligne mais au chiffre d'affaire globale.**\r\n",
    "\r\n",
    "**Six produits vendus sur internet n'ont pas de SKU (ils sont tous out of stock mais tous les produits out of stock ne sont \r\n",
    "pas NaN pour leur SKU) c'est pour cela que nous n'avons pas utilisé la condition \"avoir un SKU\" comme contrainte dans le calcul du chiffre d'affaire en ligne, cependant il faudrait se pencher sur ce fait pour le corriger au plus vite, les produits web ne pouvant pas rester sans identifiants au risque d'entrainer des erreurs.**\r\n"
   ],
   "metadata": {}
  },
  {
   "cell_type": "markdown",
   "source": [
    "Analyse des prix et représentation graphique: (outliers)\r\n",
    "---"
   ],
   "metadata": {}
  },
  {
   "cell_type": "code",
   "execution_count": 13,
   "source": [
    "Complet_df[[\"price\"]].describe()\r\n"
   ],
   "outputs": [
    {
     "output_type": "execute_result",
     "data": {
      "text/html": [
       "<div>\n",
       "<style scoped>\n",
       "    .dataframe tbody tr th:only-of-type {\n",
       "        vertical-align: middle;\n",
       "    }\n",
       "\n",
       "    .dataframe tbody tr th {\n",
       "        vertical-align: top;\n",
       "    }\n",
       "\n",
       "    .dataframe thead th {\n",
       "        text-align: right;\n",
       "    }\n",
       "</style>\n",
       "<table border=\"1\" class=\"dataframe\">\n",
       "  <thead>\n",
       "    <tr style=\"text-align: right;\">\n",
       "      <th></th>\n",
       "      <th>price</th>\n",
       "    </tr>\n",
       "  </thead>\n",
       "  <tbody>\n",
       "    <tr>\n",
       "      <th>count</th>\n",
       "      <td>896.00</td>\n",
       "    </tr>\n",
       "    <tr>\n",
       "      <th>mean</th>\n",
       "      <td>32.80</td>\n",
       "    </tr>\n",
       "    <tr>\n",
       "      <th>std</th>\n",
       "      <td>26.40</td>\n",
       "    </tr>\n",
       "    <tr>\n",
       "      <th>min</th>\n",
       "      <td>5.20</td>\n",
       "    </tr>\n",
       "    <tr>\n",
       "      <th>25%</th>\n",
       "      <td>15.30</td>\n",
       "    </tr>\n",
       "    <tr>\n",
       "      <th>50%</th>\n",
       "      <td>25.90</td>\n",
       "    </tr>\n",
       "    <tr>\n",
       "      <th>75%</th>\n",
       "      <td>42.70</td>\n",
       "    </tr>\n",
       "    <tr>\n",
       "      <th>max</th>\n",
       "      <td>225.00</td>\n",
       "    </tr>\n",
       "  </tbody>\n",
       "</table>\n",
       "</div>"
      ],
      "text/plain": [
       "       price\n",
       "count 896.00\n",
       "mean   32.80\n",
       "std    26.40\n",
       "min     5.20\n",
       "25%    15.30\n",
       "50%    25.90\n",
       "75%    42.70\n",
       "max   225.00"
      ]
     },
     "metadata": {},
     "execution_count": 13
    }
   ],
   "metadata": {}
  },
  {
   "cell_type": "code",
   "execution_count": 14,
   "source": [
    "print(\"Le mode est de\", Complet_df[\"price\"].mode())\r\n",
    "print(\"La variance est de\", round(Complet_df[\"price\"].var(ddof=0),2))\r\n",
    "print(\"Le Skewness est de\", round(Complet_df[\"price\"].skew(),2))"
   ],
   "outputs": [
    {
     "output_type": "stream",
     "name": "stdout",
     "text": [
      "Le mode est de 0   45.00\n",
      "dtype: float64\n",
      "La variance est de 696.25\n",
      "Le Skewness est de 2.6\n"
     ]
    }
   ],
   "metadata": {}
  },
  {
   "cell_type": "markdown",
   "source": [
    "**La méthode .describe nous donne un résumé statistique basique de la colonne price de notre dataframe.**\r\n",
    "* Nous avons donc 896 valeurs avec 5,20€ pour le prix minimum et 225€ pour le prix maximum.\r\n",
    "* Nous avons aussi les premier et troisème percentiles ainsi que la médiane (second percentil, 50%) à 25,90€.\r\n",
    "* l'écart type est de 26,40€\r\n",
    "* La moyenne de 32,80€. On note qu'elle est différente de la médiane.\r\n",
    "* On calcule le mode et la variance empirique en plus qui sont réspectivement de 45€ et de 696,25€² ce sont des mesures d'utilité limitée si ce n'est pour d'autres calculs.\r\n",
    "* La mesure du Skewness de 2,6 est bien supérieure à zéro et nous indique que nos valeurs sont étalées vers la droite, donc vers les prix les plus élevés. La distribution étant assymétrique on ne peut pas caluler le Kurtosis.\r\n",
    "\r\n",
    "Verifions cela de manière plus graphique:"
   ],
   "metadata": {}
  },
  {
   "cell_type": "markdown",
   "source": [
    "*Pour rappel:*\r\n",
    "* *mode = valeur la plus fréquente*\r\n",
    "* *moyenne= somme des valeurs divisée par leur nombre, robuste aux outliers*\r\n",
    "* *médiane= autant de valeur au-dessus qu'en-dessous*"
   ],
   "metadata": {}
  },
  {
   "cell_type": "code",
   "execution_count": 15,
   "source": [
    "mean = Complet_df[\"price\"].mean()\r\n",
    "median = Complet_df[\"price\"].median()\r\n",
    "\r\n",
    "#Representation de la repartition des prix en histogramme:\r\n",
    "sns.histplot(data=Complet_df[\"price\"])\r\n",
    "plt.axvline(mean, color=\"black\", linestyle=\"--\")\r\n",
    "plt.axvline(median, color=\"black\", linestyle=\"-\")\r\n",
    "plt.legend({\"Moyenne\":mean,\"Mediane\":median})\r\n",
    "plt.title(\"Répartition des prix\")\r\n"
   ],
   "outputs": [
    {
     "output_type": "execute_result",
     "data": {
      "text/plain": [
       "Text(0.5, 1.0, 'Répartition des prix')"
      ]
     },
     "metadata": {},
     "execution_count": 15
    },
    {
     "output_type": "display_data",
     "data": {
      "image/png": "[encoded data removed]",
      "text/plain": [
       "<Figure size 432x288 with 1 Axes>"
      ]
     },
     "metadata": {
      "needs_background": "light"
     }
    }
   ],
   "metadata": {}
  },
  {
   "cell_type": "markdown",
   "source": [
    "**L'histogramme de la répartition des prix correspond visuellement à ce qui est attendu même min/max, la moyenne et la médiane aussi. On voit que la médiane est décalée sur la gauche de notre graphique, les premiers prix sont donc plus fréquents dans notre boutique que les plus élevé. La mesure empirique du Skweness est confirmée puisqu'on voit que la répartition est dissymétrique en faveur de la droite. Visuellement et sans avoir encore de confirmation tangible il semblerait que les outliers se retrouvent plutôt parmi les prix élevés.**"
   ],
   "metadata": {}
  },
  {
   "cell_type": "code",
   "execution_count": 16,
   "source": [
    "# Detection numerique des outliers:\r\n",
    "Q1 = Complet_df[\"price\"].quantile(q=0.25, interpolation=\"midpoint\")\r\n",
    "Q3 = Complet_df[\"price\"].quantile(q=0.75, interpolation=\"midpoint\")\r\n",
    "Iq = Q3 - Q1\r\n",
    "\r\n",
    "Lim_Outliers_Inf = Q1-1.5*Iq\r\n",
    "Lim_Outliers_Sup = Q3+1.5*Iq\r\n",
    "\r\n",
    "Outliers_Inf = Complet_df[\"price\"] < Lim_Outliers_Inf\r\n",
    "Outliers_Sup = Complet_df[\"price\"] > Lim_Outliers_Sup\r\n",
    "\r\n",
    "print(\"Limite pour les outliers inferieurs:\\n\", round(Lim_Outliers_Inf,2))\r\n",
    "print(\"Les index des outliers inferieurs sont:\\n\", np.where(Outliers_Inf)[0])\r\n",
    "\r\n",
    "print(\"Limite pour les outliers superieurs:\\n\", round(Lim_Outliers_Sup,2))\r\n",
    "print(\"Les index des outliers superieurs sont:\\n\", np.where(Outliers_Sup)[0])\r\n",
    "print(\"\\n\",Complet_df.loc[(Complet_df[\"price\"]>84.05),(\"price\",\"post_title\")])\r\n"
   ],
   "outputs": [
    {
     "output_type": "stream",
     "name": "stdout",
     "text": [
      "Limite pour les outliers inferieurs:\n",
      " -25.95\n",
      "Les index des outliers inferieurs sont:\n",
      " []\n",
      "Limite pour les outliers superieurs:\n",
      " 84.05\n",
      "Les index des outliers superieurs sont:\n",
      " [ 64  66 200 202 206 219 220 222 223 228 381 382 426 431 432 437 438 448\n",
      " 459 476 484 539 550 567 575 684 693 735 769 784 785 786 824 829 830 835\n",
      " 836 837 838 839]\n",
      "\n",
      "       price                                         post_title\n",
      "64   100.00  Zind-Humbrecht Riesling Grand Cru Rangen De Th...\n",
      "66    88.40  Zind-Humbrecht Pinot Gris Grand Cru Rangen De ...\n",
      "382  225.00     Champagne Egly-Ouriet Grand Cru Millésimé 2008\n",
      "384  126.50     Champagne Egly-Ouriet Grand Cru Blanc de Noirs\n",
      "388   85.60  Champagne Larmandier-Bernier Grand Cru Les Che...\n",
      "401  176.00                               Cognac Frapin VIP XO\n",
      "402  108.50              Cognac Frapin Château de Fontpinot XO\n",
      "404  157.00  Cognac Frapin Château de Fontpinot 1989 20 Ans...\n",
      "405  104.00                          Cognac Frapin Cigar Blend\n",
      "774  109.60  Château de Meursault Puligny-Montrachet 1er Cr...\n",
      "2019 102.30  Domaine Des Croix Corton Grand Cru Les Grèves ...\n",
      "2020 137.00  Domaine Des Croix Corton Charlemagne Grand Cru...\n",
      "2246 217.50     David Duband Charmes-Chambertin Grand Cru 2014\n",
      "2251 105.00  Domaine des Comtes Lafon Volnay 1er Cru Santen...\n",
      "2252 105.00  Domaine des Comtes Lafon Volnay 1er Cru Santen...\n",
      "2439 112.00  Champagne Agrapart &amp; Fils L'Avizoise Extra...\n",
      "2440  86.80  Champagne Agrapart &amp; Fils Minéral Extra Br...\n",
      "2450  86.10         Pierre Jean Villa Côte Rôtie Fongeant 2017\n",
      "2461 144.00         Pierre Jean Villa Côte Rôtie Fongeant 2017\n",
      "2478  84.70         Pierre Jean Villa Côte Rôtie Fongeant 2017\n",
      "2486  92.00         Pierre Jean Villa Côte Rôtie Fongeant 2017\n",
      "2541  86.10    Pierre Jean Villa Condrieu Jardin Suspendu 2018\n",
      "2552 144.00    Pierre Jean Villa Condrieu Jardin Suspendu 2018\n",
      "2569  84.70    Pierre Jean Villa Condrieu Jardin Suspendu 2018\n",
      "2577  92.00    Pierre Jean Villa Condrieu Jardin Suspendu 2018\n",
      "2777  92.00                      Tempier Bandol Cabassaou 2017\n",
      "2877 124.80  Domaine Weinbach Gewurztraminer Grand Cru Furs...\n",
      "2919 175.00                Camille Giroud Clos de Vougeot 2016\n",
      "3135 191.30  Coteaux Champenois Egly-Ouriet Ambonnay Rouge ...\n",
      "3150  93.00  Wemyss Malts Single Cask Scotch Whisky Chocola...\n",
      "3151 122.00  Wemyss Malts Single Cask Scotch Whisky Choc 'n...\n",
      "3152 114.00  Wemyss Malts Single Cask Scotch Whisky Chai Ca...\n",
      "3372 135.00             Champagne Gosset Célébris Vintage 2007\n",
      "3377 105.60  David Duband Chambolle-Musigny 1er Cru Les Sen...\n",
      "3378 116.40  Domaine Clerget Echezeaux Grand Cru En Orveaux...\n",
      "3383 115.00  Domaine des Comtes Lafon Volnay 1er Cru Santen...\n",
      "3384 121.00  Domaine des Comtes Lafon Volnay 1er Cru Santen...\n",
      "3385  99.00  Domaine des Comtes Lafon Volnay 1er Cru Champa...\n",
      "3386 115.00  Domaine des Comtes Lafon Volnay 1er Cru Champa...\n",
      "3387 121.00  Domaine des Comtes Lafon Volnay 1er Cru Champa...\n"
     ]
    }
   ],
   "metadata": {}
  },
  {
   "cell_type": "markdown",
   "source": [
    "**Les valeurs en dessous de Q1- 1,5 x IQ et au-dessus de Q3 + 1,5 x IQ qui seront considérée comme de outliers.**\r\n",
    "*(avec Q1 = premier quantile, IQ = écart interquantile et Q3 = troisième quantile)*\r\n",
    "\r\n",
    "\r\n",
    "* **La limite inférieure étant négative (-25,95) il est logique qu'aucun outlier inférieur n'existe (un prix ne peut pas être négatif et notre valeur de prix minimale est de 5,20€). On vérifie tout de même en affichant les index pour lesquels l'affirmation serait juste (True).**\r\n",
    "\r\n",
    "* **La limite supérieure est elle de 84,05€ sachant que la valeur maximale est de 225€ il est évident qu'il y a au moins un outlieur supérieur, on doit donc retourner les index des tuples pour lesquels l'affirmation est juste. Il y a 41 références concernées.**"
   ],
   "metadata": {}
  },
  {
   "cell_type": "code",
   "execution_count": 17,
   "source": [
    "# Representation graphique en boxplot:\r\n",
    "Boxplot = sns.boxplot(x=Complet_df[\"price\"],palette=\"crest\")"
   ],
   "outputs": [
    {
     "output_type": "display_data",
     "data": {
      "image/png": "[encoded data removed]",
      "text/plain": [
       "<Figure size 432x288 with 1 Axes>"
      ]
     },
     "metadata": {
      "needs_background": "light"
     }
    }
   ],
   "metadata": {}
  },
  {
   "cell_type": "markdown",
   "source": [
    "**On retrouve nos Q1, Q3 et la médiane, les 41 outliers au-dessus de Q3 et leur position en fonction de leur prix.**"
   ],
   "metadata": {}
  },
  {
   "cell_type": "markdown",
   "source": [
    "Autres informations:\r\n",
    "---"
   ],
   "metadata": {}
  },
  {
   "cell_type": "code",
   "execution_count": 18,
   "source": [
    "#Representation graphique en nuage de points:\r\n",
    "sns.scatterplot(data=Complet_df,\r\n",
    "                x=\"price\",\r\n",
    "                y=\"total_sales\",\r\n",
    "                hue=\"stock_status\",\r\n",
    "                style=\"stock_status\",\r\n",
    "                palette=\"mako\",\r\n",
    "                hue_order=(\"outofstock\",\"instock\"))\r\n",
    "plt.xlabel(\"prix\")\r\n",
    "plt.ylabel(\"Nombre de ventes\")\r\n",
    "plt.title(\"Nombre de ventes en fonction du prix\")\r\n",
    "plt.show()\r\n"
   ],
   "outputs": [
    {
     "output_type": "display_data",
     "data": {
      "image/png": "[encoded data removed]",
      "text/plain": [
       "<Figure size 432x288 with 1 Axes>"
      ]
     },
     "metadata": {
      "needs_background": "light"
     }
    }
   ],
   "metadata": {}
  },
  {
   "cell_type": "markdown",
   "source": [
    "**Bien que ce graphique soit moyennement lisible en détails dans les catégories de prix les moins élevées avec des ventes faibles, il permet tout de même de s'apercevoir que nous sommes à court de notre bestseller (96 ventes à 49€ pour le Champagne Gosset Grand Blanc de Blancs) ainsi que pour notre bouteille la plus chère.**"
   ],
   "metadata": {}
  },
  {
   "cell_type": "code",
   "execution_count": 19,
   "source": [
    "Best_Seller_Web = Complet_df.loc[(Complet_df[\"onsale_web\"]==1),(\"sku\",\r\n",
    "                                                                \"total_sales\",\r\n",
    "                                                                \"price\",\r\n",
    "                                                                \"ca_produit\",\r\n",
    "                                                                \"stock_status\")\r\n",
    "                                ]\r\n",
    "\r\n",
    "print(Best_Seller_Web.nlargest(10,\"total_sales\"))"
   ],
   "outputs": [
    {
     "output_type": "stream",
     "name": "stdout",
     "text": [
      "        sku  total_sales  price  ca_produit stock_status\n",
      "377    7818        96.00  49.00     4704.00   outofstock\n",
      "72     1662        87.00  49.00     4263.00      instock\n",
      "31    16416        62.00  16.60     1029.20      instock\n",
      "120   16295        46.00   5.80      266.80      instock\n",
      "98    16210        43.00   5.70      245.10      instock\n",
      "110   16189        42.00  13.30      558.60      instock\n",
      "3381  16580        41.00  25.20     1033.20      instock\n",
      "70      304        40.00  39.00     1560.00      instock\n",
      "1599     38        38.00   8.60      326.80      instock\n",
      "3264  16264        38.00  10.90      414.20      instock\n"
     ]
    }
   ],
   "metadata": {}
  },
  {
   "cell_type": "markdown",
   "source": [
    "**Ce tableau nous permet d'identifier nos produits les plus vendus sur le web ainsi que leur disponibilité, il nous confirme que le produit le plus vendu est actuellement en rupture de stock. C'est un résumé du graphique précédent.**"
   ],
   "metadata": {}
  },
  {
   "cell_type": "code",
   "execution_count": 20,
   "source": [
    "# Correlation entre le prix et le nombre de ventes:\r\n",
    "print(\"Le coefficiant de correlation de Pearson vaux\",\r\n",
    "      round(Complet_df[\"price\"].corr(Complet_df[\"total_sales\"]),2))"
   ],
   "outputs": [
    {
     "output_type": "stream",
     "name": "stdout",
     "text": [
      "Le coefficiant de correlation de Pearson vaux -0.13\n"
     ]
    }
   ],
   "metadata": {}
  },
  {
   "cell_type": "markdown",
   "source": [
    "*Le coeficiant de corrélation de Pearson est de -0,13, donc inférieur à zéro indiquant une relation négative entre le prix et les ventes, cependant, la valeur absolue du r reste proche de zéro, la relation n'est donc pas très marquée.*\r\n",
    "\r\n",
    "\r\n",
    "**Attention cependant, ce teste n'est que très superficiel, la normalité de la répartition des prix ainsi que la significativité de la mesure du r restent à être fait si les analyses sont demandées à l'avenir.**"
   ],
   "metadata": {}
  }
 ],
 "metadata": {
  "orig_nbformat": 4,
  "language_info": {
   "name": "python",
   "version": "3.8.8",
   "mimetype": "text/x-python",
   "codemirror_mode": {
    "name": "ipython",
    "version": 3
   },
   "pygments_lexer": "ipython3",
   "nbconvert_exporter": "python",
   "file_extension": ".py"
  },
  "kernelspec": {
   "name": "python3",
   "display_name": "Python 3.8.8 64-bit ('base': conda)"
  },
  "interpreter": {
   "hash": "404051c4332f3092e5aa7fdae49aa9cc513071843651b7fc7d1945385bcec5c0"
  }
 },
 "nbformat": 4,
 "nbformat_minor": 2
}